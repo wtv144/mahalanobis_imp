{
 "cells": [
  {
   "cell_type": "code",
   "execution_count": 1,
   "metadata": {},
   "outputs": [],
   "source": [
    "import numpy as np\n",
    "from scipy.integrate import quad\n",
    "from math import sqrt, exp\n",
    "from numpy.linalg import inv\n",
    "\n",
    "#x1 = [3,2] x2 = [-1,4]\n",
    "xi = np.array([3,2]).astype(float)\n",
    "xj = np.array([-1,4]).astype(float)\n"
   ]
  },
  {
   "cell_type": "markdown",
   "metadata": {},
   "source": [
    "$d_{ij}^2 = (x_i - x_j)^T G (x_i-x_j)$  \n",
    "G = $\\frac{\\sum_{k=1}^K C_k^{-1} * \\pi_k \\integral p(x|k)dx}{\\sum_{k=1}^K  \\pi_k \\integral p(x|k)dx}$  \n"
   ]
  },
  {
   "cell_type": "code",
   "execution_count": 2,
   "metadata": {},
   "outputs": [],
   "source": [
    "def erf(x):\n",
    "    gr = lambda t: exp(-t*t)\n",
    "    res, err = quad(gr, 0,x )\n",
    "    ret = 2/sqrt(np.pi) *res\n",
    "    return ret"
   ]
  },
  {
   "cell_type": "markdown",
   "metadata": {},
   "source": [
    "## Test 1"
   ]
  },
  {
   "cell_type": "code",
   "execution_count": 22,
   "metadata": {},
   "outputs": [],
   "source": [
    "#Find the values for cluster 1  [10 0 \\ 0 2], [1,1]\n",
    "v= xi-xj\n",
    "cov1 = np.array([[10,0],[0,2]]).astype(float)\n",
    "mu1 = np.array([1,1]).astype(float)\n",
    "u = mu1 - xj\n"
   ]
  },
  {
   "cell_type": "code",
   "execution_count": 23,
   "metadata": {},
   "outputs": [
    {
     "name": "stdout",
     "output_type": "stream",
     "text": [
      "[[0.1 0. ]\n",
      " [0.  0.5]]\n",
      "0.2777777777777778\n",
      "1.0555555555555556\n",
      "0.8888888888888893\n"
     ]
    }
   ],
   "source": [
    "icov1 =inv(cov1)\n",
    "print(icov1)\n",
    "b2 = 1/(np.transpose(v) @ icov1 @ v)\n",
    "print(b2)\n",
    "a = b2 * np.transpose(v) @ icov1 @ u\n",
    "print(a)\n",
    "Z = np.transpose(u) @ icov1 @ u - b2 * (np.transpose(v) @ icov1 @ u)**2\n",
    "print(Z)"
   ]
  },
  {
   "cell_type": "code",
   "execution_count": 30,
   "metadata": {},
   "outputs": [],
   "source": [
    "integral = sqrt(np.pi*b2/2)*exp(-Z/2) * (erf((1-a)/sqrt(2*b2)) - erf( (-a)/sqrt(2*b2)))\n",
    "cluster_p = [1/2,1/3,1/6]"
   ]
  },
  {
   "cell_type": "code",
   "execution_count": 31,
   "metadata": {},
   "outputs": [],
   "source": [
    "n1 = icov1*cluster_p[0]*integral\n",
    "d1 = cluster_p[0]*integral"
   ]
  },
  {
   "cell_type": "code",
   "execution_count": 32,
   "metadata": {},
   "outputs": [
    {
     "name": "stdout",
     "output_type": "stream",
     "text": [
      "0.27272727272727276\n",
      "1.6363636363636365\n"
     ]
    }
   ],
   "source": [
    "means2 = np.array([8,4]).astype(float)\n",
    "cov2 = np.array([[6,0],[0,4]]).astype(float)\n",
    "u = means2 - xj\n",
    "icov2 = inv(cov2)\n",
    "b2 = 1/(np.transpose(v) @ icov2 @ v)\n",
    "print(b2)\n",
    "a = b2 * np.transpose(v) @ icov2 @ u\n",
    "print(a)\n",
    "Z =np.transpose(u) @ icov2 @ u - b2 * (np.transpose(v) @ icov2 @ u)**2\n",
    "integral = sqrt(np.pi*b2/2)*exp(-Z/2) * (erf((1-a)/sqrt(2*b2)) - erf((-a)/sqrt(2*b2)))\n",
    "n2 = icov2 * cluster_p[1]*integral\n",
    "d2 = cluster_p[1]*integral"
   ]
  },
  {
   "cell_type": "code",
   "execution_count": 33,
   "metadata": {},
   "outputs": [
    {
     "name": "stdout",
     "output_type": "stream",
     "text": [
      "0.27631578947368424\n",
      "-1.0789473684210529\n"
     ]
    }
   ],
   "source": [
    "means3 = np.array([5,15]).astype(float)\n",
    "cov3 = np.array([[7,0],[0,3]]).astype(float)\n",
    "u = means3 - xj\n",
    "icov3 = inv(cov3)\n",
    "b2 = 1/(np.transpose(v) @ icov3 @ v)\n",
    "print(b2)\n",
    "a = b2 * np.transpose(v) @ icov3 @ u\n",
    "print(a)\n",
    "Z =np.transpose(u) @ icov3 @ u - b2 * (np.transpose(v) @ icov3 @ u)**2\n",
    "integral = sqrt(np.pi*b2/2)*exp(-Z/2) * (erf((1-a)/sqrt(2*b2)) - erf( (-a)/sqrt(2*b2)))\n",
    "n3 = icov3 * cluster_p[2]*integral\n",
    "d3 = cluster_p[2]*integral"
   ]
  },
  {
   "cell_type": "code",
   "execution_count": 34,
   "metadata": {},
   "outputs": [],
   "source": [
    "G = (n1+n2+n3)/(d1+d2+d3)\n",
    "m_dist =sqrt(np.transpose(v)@ G @ v)"
   ]
  },
  {
   "cell_type": "code",
   "execution_count": 35,
   "metadata": {},
   "outputs": [
    {
     "data": {
      "text/plain": [
       "1.914854215472008"
      ]
     },
     "execution_count": 35,
     "metadata": {},
     "output_type": "execute_result"
    }
   ],
   "source": [
    "m_dist\n",
    "#1.898 vs 1.903 for this case\n"
   ]
  },
  {
   "cell_type": "markdown",
   "metadata": {},
   "source": [
    "## Test 2\n"
   ]
  },
  {
   "cell_type": "code",
   "execution_count": 17,
   "metadata": {},
   "outputs": [
    {
     "name": "stdout",
     "output_type": "stream",
     "text": [
      "0.040540540540540536\n",
      "0.3468468468468469\n"
     ]
    }
   ],
   "source": [
    "#Case 2 \n",
    "means = np.array([0,0]).astype(float)\n",
    "covs =  np.array([[10,4],[2,8]]).astype(float)\n",
    "xi = np.array([10,0]).astype(float)\n",
    "xj = np.array([-4,2]).astype(float)\n",
    "v = xi-xj\n",
    "u = means - xj\n",
    "icov = inv(covs)\n",
    "b2 = 1/(np.transpose(v) @ icov @ v)\n",
    "print(b2)\n",
    "a = b2 * np.transpose(v) @ icov @ u\n",
    "print(a)\n",
    "Z =np.transpose(u) @ icov @ u - b2 * (np.transpose(v) @ icov @ u)**2\n",
    "integral = sqrt(np.pi*b2/2)*exp(-Z/2) * (erf((1-a)/sqrt(2*b2)) - erf( (-a)/sqrt(2*b2)))"
   ]
  },
  {
   "cell_type": "code",
   "execution_count": 19,
   "metadata": {},
   "outputs": [
    {
     "data": {
      "text/plain": [
       "4.96655480858378"
      ]
     },
     "execution_count": 19,
     "metadata": {},
     "output_type": "execute_result"
    }
   ],
   "source": [
    "sqrt(np.transpose(v) @((icov*integral)/integral) @ v)\n",
    "#Same as the one calculated with the method"
   ]
  },
  {
   "cell_type": "code",
   "execution_count": null,
   "metadata": {},
   "outputs": [],
   "source": [
    "probs = np.array([.5,.25,.25])\n",
    "means"
   ]
  }
 ],
 "metadata": {
  "kernelspec": {
   "display_name": "Python 3",
   "language": "python",
   "name": "python3"
  },
  "language_info": {
   "codemirror_mode": {
    "name": "ipython",
    "version": 3
   },
   "file_extension": ".py",
   "mimetype": "text/x-python",
   "name": "python",
   "nbconvert_exporter": "python",
   "pygments_lexer": "ipython3",
   "version": "3.8.5"
  }
 },
 "nbformat": 4,
 "nbformat_minor": 4
}
